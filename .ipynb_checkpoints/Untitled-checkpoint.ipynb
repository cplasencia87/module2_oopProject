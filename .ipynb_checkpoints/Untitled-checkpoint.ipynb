{
 "cells": [
  {
   "cell_type": "code",
   "execution_count": null,
   "id": "dd74aa49",
   "metadata": {},
   "outputs": [],
   "source": [
    "class parkingGarage():\n",
    "    \n",
    "    \n",
    "    def __init__(self, tickets, parkingSpaces, currentTicket):\n",
    "        self.tickets = tickets\n",
    "        self.parkingSpaces = parkingSpaces\n",
    "        self.currentTicket = currentTicket\n",
    "        \n",
    "    def takeTicket(self):\n",
    "        del(self.tickets[-0])\n",
    "        del(self.parkingSpaces[-0])\n",
    "    \n",
    "    def availSpaces(self):\n",
    "        if len(self.tickets) == 0:\n",
    "            False\n",
    "            print('No tickets Available')\n",
    "        \n",
    "    def payForParking(self):\n",
    "        amount_paid = input('Ticket is $3.00. Enter Amount Paid:  ')\n",
    "        if amount_paid == '3' or '3.00':\n",
    "            print('Ticket Paid, You have 15 min left.')\n",
    "            self.currentTicket['paid'] = True\n",
    "        else:\n",
    "            print('Incorrect Amount')\n",
    "            \n",
    "    def leaveGarage(self):\n",
    "        if self.currentTicket['paid'] == True:\n",
    "            print('Thank you, Have a Nice Day. ')\n",
    "        elif self.currentTicket['paid'] == False:\n",
    "            pay = input('Please Enter payment of $3.00 ')\n",
    "            if pay == '3'or pay == '3.00':\n",
    "                self.currentTicket['paid'] = True\n",
    "                self.tickets.append(1)\n",
    "                self.parkingSpaces.append(1)\n",
    "                print('Thank you, have a nice day.')\n",
    "        else:\n",
    "            print('Incorrent Amount')\n",
    "        \n",
    "\n",
    "\n"
   ]
  },
  {
   "cell_type": "code",
   "execution_count": null,
   "id": "a0f272a0",
   "metadata": {},
   "outputs": [],
   "source": [
    "lot = parkingGarage([1,1,1,1,1], [1,1,1,1,1], {'paid' : False})\n",
    "\n",
    "def run():\n",
    "    while True:\n",
    "        lot.availSpaces()\n",
    "        response = input('Parking or Leaving? ')\n",
    "        \n",
    "        if response.lower() == 'parking':\n",
    "#             print('test')\n",
    "            lot.takeTicket()\n",
    "            lot.payForParking()\n",
    "        \n",
    "        elif response.lower() == 'leaving':\n",
    "            lot.leaveGarage()\n",
    "            break\n",
    "        else:\n",
    "            print('Invalid Command ')\n",
    "            \n",
    "run()\n"
   ]
  }
 ],
 "metadata": {
  "kernelspec": {
   "display_name": "Python 3 (ipykernel)",
   "language": "python",
   "name": "python3"
  },
  "language_info": {
   "codemirror_mode": {
    "name": "ipython",
    "version": 3
   },
   "file_extension": ".py",
   "mimetype": "text/x-python",
   "name": "python",
   "nbconvert_exporter": "python",
   "pygments_lexer": "ipython3",
   "version": "3.9.7"
  }
 },
 "nbformat": 4,
 "nbformat_minor": 5
}
